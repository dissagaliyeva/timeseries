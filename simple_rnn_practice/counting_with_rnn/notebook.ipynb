{
 "cells": [
  {
   "cell_type": "markdown",
   "metadata": {
    "collapsed": true,
    "pycharm": {
     "name": "#%% md\n"
    }
   },
   "source": [
    "### Counting with RNN\n",
    "\n",
    "**Simple Input**: (0, 0, 0, 0, 1, 0, 1, 0, 1, 0)\n",
    "\n",
    "**Output**: 3\n",
    "\n",
    "**Formula**: $$s_t=f(Ws_{t-1} + Ux_t)$$"
   ]
  },
  {
   "cell_type": "code",
   "execution_count": 1,
   "outputs": [],
   "source": [
    "import numpy as np\n",
    "\n",
    "x = np.array([[0, 0, 0, 0, 1, 0, 1, 0, 1, 0]])\n",
    "y = np.array([3])"
   ],
   "metadata": {
    "collapsed": false,
    "pycharm": {
     "name": "#%%\n"
    }
   }
  },
  {
   "cell_type": "code",
   "execution_count": 2,
   "outputs": [],
   "source": [
    "def step(s, x, u, w):\n",
    "    return x * u + s * w\n",
    "\n",
    "def forward(x, u, w):\n",
    "    n_samples = len(x)\n",
    "\n",
    "    # length of each sample\n",
    "    seq_len = len(x[0])\n",
    "\n",
    "    # initialize state activation for each sample along the sequence\n",
    "    s = np.zeros((n_samples, seq_len + 1))\n",
    "\n",
    "    # update states over sequence\n",
    "    for t in range(0, seq_len):\n",
    "        s[:, t + 1] = step(s[:, t], x[:, t], u, w)  # step function\n",
    "\n",
    "    return s\n",
    "\n",
    "def backward(x, s, y, w):\n",
    "    seq_len = len(x[0])\n",
    "\n",
    "    # network output is just the last activation of sequence\n",
    "    s_t = s[:, -1]\n",
    "\n",
    "    # compute gradient of output wrt MSE loss function\n",
    "    gS = 2 * (s_t - y)\n",
    "\n",
    "    # set gradient accumilations to 0\n",
    "    gU, gW = 0, 0\n",
    "\n",
    "    # accumulate gradients backwards\n",
    "    for k in range(seq_len, 0, -1):\n",
    "        # compute parameter gradients and accumulate results\n",
    "        gU += np.sum(gS * x[:, k - 1])\n",
    "        gW += np.sum(gS * s[:, k - 1])\n",
    "\n",
    "        # compute gradient as the output of previous layer\n",
    "    gS *= w\n",
    "    return gU, gW"
   ],
   "metadata": {
    "collapsed": false,
    "pycharm": {
     "name": "#%%\n"
    }
   }
  },
  {
   "cell_type": "code",
   "execution_count": 11,
   "outputs": [],
   "source": [
    "def train(x, y, epoch, lr=5e-4):\n",
    "    # set initial parameters\n",
    "    weights = (-2, 0)\n",
    "\n",
    "    losses = list()\n",
    "    grad_u, grad_w = list(), list()\n",
    "\n",
    "    # iterative gradient descent\n",
    "    for i in range(epoch):\n",
    "        # forward pass\n",
    "        s = forward(x, weights[0], weights[1])\n",
    "\n",
    "        # compute loss\n",
    "        loss = (y[0] - s[-1, -1])**2\n",
    "\n",
    "        # store loss and weight values for later display\n",
    "        losses.append(loss)\n",
    "\n",
    "        gradients = backward(x, s, y, weights[1])\n",
    "        grad_u.append(gradients[0])\n",
    "        grad_w.append(gradients[1])\n",
    "\n",
    "        # update each parameter 'p' by p-=(gradient * lr)\n",
    "        weights = tuple((p - gp * lr) for p, gp in zip(weights, gradients))\n",
    "\n",
    "    return np.array(losses), np.array(grad_u), np.array(grad_w), s[-1, -1]\n"
   ],
   "metadata": {
    "collapsed": false,
    "pycharm": {
     "name": "#%%\n"
    }
   }
  },
  {
   "cell_type": "code",
   "execution_count": 12,
   "outputs": [],
   "source": [
    "import matplotlib.pyplot as plt\n",
    "\n",
    "def plot_training(losses, grad_u, grad_w):\n",
    "    losses = losses[~np.isnan(losses)][:-1]\n",
    "    grad_u = grad_u[~np.isnan(grad_u)][:-1]\n",
    "    grad_w = grad_w[~np.isnan(grad_w)][:-1]\n",
    "\n",
    "    # plot weights u & w\n",
    "    fig, ax1 = plt.subplots(figsize=(10, 6))\n",
    "    ax1.set_ylim(-3, 600)\n",
    "    ax1.set_xlabel('epochs')\n",
    "    ax1.plot(grad_u, label='gradient U', color='blue', linestyle=':')\n",
    "    ax1.plot(grad_w, label='gradient W', color='red', linestyle='--')\n",
    "    ax1.legend(loc='upper left')\n",
    "\n",
    "    # plot exploding gradients\n",
    "    ax2 = ax1.twinx()\n",
    "    ax2.plot(losses, label='loss', color='green')\n",
    "    ax2.tick_params(axis='y', labelcolor='green')\n",
    "    ax2.legend(loc='upper right')\n",
    "    fig.tight_layout()\n",
    "\n",
    "    plt.show()\n"
   ],
   "metadata": {
    "collapsed": false,
    "pycharm": {
     "name": "#%%\n"
    }
   }
  },
  {
   "cell_type": "code",
   "execution_count": 16,
   "outputs": [
    {
     "data": {
      "text/plain": "<Figure size 720x432 with 2 Axes>",
      "image/png": "[encoded data removed]"
     },
     "metadata": {
      "needs_background": "light"
     },
     "output_type": "display_data"
    }
   ],
   "source": [
    "losses, gradients_u, gradients_w, output = train(x, y, epoch=500)\n",
    "plot_training(losses, gradients_u, gradients_w)\n"
   ],
   "metadata": {
    "collapsed": false,
    "pycharm": {
     "name": "#%%\n"
    }
   }
  },
  {
   "cell_type": "code",
   "execution_count": 17,
   "outputs": [
    {
     "name": "stdout",
     "output_type": "stream",
     "text": [
      "Input: 3\tOutput:2.999988963659208\n"
     ]
    }
   ],
   "source": [
    "print(f'Input: {y[0]}\\tOutput:{output}')"
   ],
   "metadata": {
    "collapsed": false,
    "pycharm": {
     "name": "#%%\n"
    }
   }
  },
  {
   "cell_type": "code",
   "execution_count": null,
   "outputs": [],
   "source": [],
   "metadata": {
    "collapsed": false,
    "pycharm": {
     "name": "#%%\n"
    }
   }
  }
 ],
 "metadata": {
  "kernelspec": {
   "display_name": "Python 3",
   "language": "python",
   "name": "python3"
  },
  "language_info": {
   "codemirror_mode": {
    "name": "ipython",
    "version": 2
   },
   "file_extension": ".py",
   "mimetype": "text/x-python",
   "name": "python",
   "nbconvert_exporter": "python",
   "pygments_lexer": "ipython2",
   "version": "2.7.6"
  }
 },
 "nbformat": 4,
 "nbformat_minor": 0
}